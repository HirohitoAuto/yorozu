{
 "cells": [
  {
   "cell_type": "code",
   "execution_count": 9,
   "metadata": {},
   "outputs": [],
   "source": [
    "import os\n",
    "\n",
    "import pandas as pd"
   ]
  },
  {
   "cell_type": "code",
   "execution_count": 10,
   "metadata": {},
   "outputs": [],
   "source": [
    "filename = \"/Users/hirohito/Documents/work/repository/yorozu/20250202_split_file/work/知財①2024_0913_0927_22696_S8_9195.xlsm\"\n",
    "sheetname = \"ダウンロード項目\"\n",
    "output_file_num = 100"
   ]
  },
  {
   "cell_type": "code",
   "execution_count": null,
   "metadata": {},
   "outputs": [],
   "source": [
    "df = pd.read_excel(filename, sheet_name=sheetname, header=None)\n",
    "df = df.dropna(how=\"all\", axis=0)\n",
    "df = df.dropna(how=\"all\", axis=1)\n",
    "\n",
    "df.columns = df.iloc[0]\n",
    "df = df[1:]  # カラム名の行を削除\n",
    "df.reset_index(inplace=True)\n",
    "df.rename(columns={\"index\": \"index\"}, inplace=True)\n",
    "df.head(1)"
   ]
  },
  {
   "cell_type": "code",
   "execution_count": 12,
   "metadata": {},
   "outputs": [],
   "source": [
    "output_dir = \"work/output_files\"\n",
    "os.makedirs(output_dir, exist_ok=True)\n",
    "\n",
    "rows_per_split = len(df) // output_file_num\n",
    "filename_base = os.path.basename(filename).split(\".\")[0]\n",
    "# 分割してjsonファイルで出力\n",
    "for i in range(output_file_num):\n",
    "    start_row = i * rows_per_split\n",
    "    end_row = (i + 1) * rows_per_split if i != output_file_num - 1 else len(df)\n",
    "    split_df = df.iloc[start_row:end_row]\n",
    "    split_df.to_json(\n",
    "        f\"{output_dir}/{filename_base}_{i + 1}.json\",\n",
    "        orient=\"records\",\n",
    "        force_ascii=False,\n",
    "        indent=4,\n",
    "    )"
   ]
  }
 ],
 "metadata": {
  "kernelspec": {
   "display_name": "3.11.5",
   "language": "python",
   "name": "python3"
  },
  "language_info": {
   "codemirror_mode": {
    "name": "ipython",
    "version": 3
   },
   "file_extension": ".py",
   "mimetype": "text/x-python",
   "name": "python",
   "nbconvert_exporter": "python",
   "pygments_lexer": "ipython3",
   "version": "3.11.5"
  }
 },
 "nbformat": 4,
 "nbformat_minor": 2
}
