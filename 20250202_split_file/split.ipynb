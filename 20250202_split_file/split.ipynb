{
 "cells": [
  {
   "cell_type": "code",
   "execution_count": 20,
   "metadata": {},
   "outputs": [],
   "source": [
    "import pandas as pd"
   ]
  },
  {
   "cell_type": "code",
   "execution_count": null,
   "metadata": {},
   "outputs": [],
   "source": [
    "filename = \"/Users/hirohito/Documents/work/repository/yorozu/20250202_split_file/work/知財①2024_0913_0927_22696_S8_9195.xlsm\"\n",
    "sheetname = \"ダウンロード項目\"\n",
    "\n",
    "df = pd.read_excel(filename, sheet_name=sheetname, header=None)\n",
    "df = df.dropna(how=\"all\", axis=0)\n",
    "df = df.dropna(how=\"all\", axis=1)\n",
    "\n",
    "df.columns = df.iloc[0]\n",
    "df = df[1:]  # カラム名の行を削除\n",
    "df.reset_index(inplace=True)\n",
    "df.rename(columns={'index': 'index'}, inplace=True)\n",
    "df.head(3)"
   ]
  },
  {
   "cell_type": "code",
   "execution_count": 22,
   "metadata": {},
   "outputs": [],
   "source": [
    "df.to_json(\"output.json\", orient=\"records\", force_ascii=False, indent=4)"
   ]
  }
 ],
 "metadata": {
  "kernelspec": {
   "display_name": "3.11.5",
   "language": "python",
   "name": "python3"
  },
  "language_info": {
   "codemirror_mode": {
    "name": "ipython",
    "version": 3
   },
   "file_extension": ".py",
   "mimetype": "text/x-python",
   "name": "python",
   "nbconvert_exporter": "python",
   "pygments_lexer": "ipython3",
   "version": "3.11.5"
  }
 },
 "nbformat": 4,
 "nbformat_minor": 2
}
