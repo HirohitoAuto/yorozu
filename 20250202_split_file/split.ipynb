{
 "cells": [
  {
   "cell_type": "code",
   "execution_count": 36,
   "metadata": {},
   "outputs": [],
   "source": [
    "import os\n",
    "\n",
    "import pandas as pd"
   ]
  },
  {
   "cell_type": "code",
   "execution_count": 37,
   "metadata": {},
   "outputs": [],
   "source": [
    "filename = \"/Users/hirohito/Documents/work/repository/yorozu/20250202_split_file/work/知財①2024_0913_0927_22696_S8_9195.xlsm\"\n",
    "sheetname = \"ダウンロード項目\"\n",
    "header = 2\n",
    "filename_out_base = \"知財①2024\"\n",
    "output_file_num = 50"
   ]
  },
  {
   "cell_type": "code",
   "execution_count": null,
   "metadata": {},
   "outputs": [],
   "source": [
    "df = pd.read_excel(filename, sheet_name=sheetname, header=header)\n",
    "df = df.dropna(how=\"all\", axis=1)\n",
    "df.head(1)"
   ]
  },
  {
   "cell_type": "code",
   "execution_count": 39,
   "metadata": {},
   "outputs": [],
   "source": [
    "output_dir = \"work/output_files\"\n",
    "os.makedirs(output_dir, exist_ok=True)\n",
    "\n",
    "rows_per_split = len(df) // output_file_num\n",
    "# 分割してjsonファイルで出力\n",
    "for i in range(output_file_num):\n",
    "    start_row = i * rows_per_split\n",
    "    end_row = (i + 1) * rows_per_split if i != output_file_num - 1 else len(df)\n",
    "    split_df = df.iloc[start_row:end_row]\n",
    "    split_df.to_json(\n",
    "        f\"{output_dir}/{filename_out_base}_{i + 1}.txt\",\n",
    "        orient=\"records\",\n",
    "        force_ascii=False,\n",
    "        indent=4,\n",
    "    )"
   ]
  }
 ],
 "metadata": {
  "kernelspec": {
   "display_name": "3.11.5",
   "language": "python",
   "name": "python3"
  },
  "language_info": {
   "codemirror_mode": {
    "name": "ipython",
    "version": 3
   },
   "file_extension": ".py",
   "mimetype": "text/x-python",
   "name": "python",
   "nbconvert_exporter": "python",
   "pygments_lexer": "ipython3",
   "version": "3.11.5"
  }
 },
 "nbformat": 4,
 "nbformat_minor": 2
}
