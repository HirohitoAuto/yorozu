{
 "cells": [
  {
   "cell_type": "code",
   "execution_count": 1,
   "metadata": {},
   "outputs": [],
   "source": [
    "import os\n",
    "\n",
    "import pandas as pd"
   ]
  },
  {
   "cell_type": "markdown",
   "metadata": {},
   "source": [
    "### 設定\n",
    ".xlsx/.xlsmファイルからDifyのナレッジとして読み込むファイルを作成する\n",
    "\n",
    "- `filename` : ファイルのパス\n",
    "- `sheetname` : 対象シート名\n",
    "- `header` : headerとして扱う行番号（0始まり。3行目 → 2 を設定）\n",
    "- `filename_out_base` : アウトプットされるファイル名のプレフィックス\n",
    "- `output_file_num` : ファイルの分割数"
   ]
  },
  {
   "cell_type": "code",
   "execution_count": 2,
   "metadata": {},
   "outputs": [],
   "source": [
    "filename = \"/Users/xxxx/Documents/work/知財①2024_0913_0927_22696_S8_9195.xlsm\"\n",
    "sheetname = \"ダウンロード項目\"\n",
    "header = 2\n",
    "filename_out_base = \"知財①2024\"\n",
    "output_file_num = 50"
   ]
  },
  {
   "cell_type": "code",
   "execution_count": null,
   "metadata": {},
   "outputs": [],
   "source": [
    "# ファイルを読み込んでdfに格納\n",
    "df = pd.read_excel(filename, sheet_name=sheetname, header=header)\n",
    "df = df.dropna(how=\"all\", axis=1)\n",
    "df.head(1)"
   ]
  },
  {
   "cell_type": "code",
   "execution_count": 5,
   "metadata": {},
   "outputs": [],
   "source": [
    "output_dir = \"work/output_files\"\n",
    "os.makedirs(output_dir, exist_ok=True)\n",
    "\n",
    "rows_per_split = len(df) // output_file_num\n",
    "# 分割してjson形式で出力\n",
    "for i in range(output_file_num):\n",
    "    start_row = i * rows_per_split\n",
    "    end_row = (i + 1) * rows_per_split if i != output_file_num - 1 else len(df)\n",
    "    split_df = df.iloc[start_row:end_row]\n",
    "    split_df.to_json(\n",
    "        f\"{output_dir}/{filename_out_base}_{i + 1}.txt\",\n",
    "        orient=\"records\",\n",
    "        force_ascii=False,\n",
    "        indent=4,\n",
    "    )"
   ]
  }
 ],
 "metadata": {
  "kernelspec": {
   "display_name": "3.11.5",
   "language": "python",
   "name": "python3"
  },
  "language_info": {
   "codemirror_mode": {
    "name": "ipython",
    "version": 3
   },
   "file_extension": ".py",
   "mimetype": "text/x-python",
   "name": "python",
   "nbconvert_exporter": "python",
   "pygments_lexer": "ipython3",
   "version": "3.11.5"
  }
 },
 "nbformat": 4,
 "nbformat_minor": 2
}
